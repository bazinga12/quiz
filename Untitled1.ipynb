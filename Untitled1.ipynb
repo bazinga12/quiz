{
 "cells": [
  {
   "cell_type": "code",
   "execution_count": 37,
   "metadata": {
    "collapsed": true
   },
   "outputs": [],
   "source": [
    "file = open('raw.txt', 'r')"
   ]
  },
  {
   "cell_type": "code",
   "execution_count": 38,
   "metadata": {
    "collapsed": false
   },
   "outputs": [],
   "source": [
    "answers = file.readline()"
   ]
  },
  {
   "cell_type": "code",
   "execution_count": 39,
   "metadata": {
    "collapsed": false
   },
   "outputs": [
    {
     "data": {
      "text/plain": [
       "'1c, 2b, 3a, 4b, 5d, 6c, 7a, 8a, 9d, 10b, 11d, 12a, 13b, 14a, 15c, 16d, 17c, 18b, 19a, 20d\\n'"
      ]
     },
     "execution_count": 39,
     "metadata": {},
     "output_type": "execute_result"
    }
   ],
   "source": [
    "answers"
   ]
  },
  {
   "cell_type": "code",
   "execution_count": 40,
   "metadata": {
    "collapsed": false
   },
   "outputs": [],
   "source": [
    "answers = answers.split(', ')"
   ]
  },
  {
   "cell_type": "code",
   "execution_count": 41,
   "metadata": {
    "collapsed": false
   },
   "outputs": [
    {
     "data": {
      "text/plain": [
       "['1c',\n",
       " '2b',\n",
       " '3a',\n",
       " '4b',\n",
       " '5d',\n",
       " '6c',\n",
       " '7a',\n",
       " '8a',\n",
       " '9d',\n",
       " '10b',\n",
       " '11d',\n",
       " '12a',\n",
       " '13b',\n",
       " '14a',\n",
       " '15c',\n",
       " '16d',\n",
       " '17c',\n",
       " '18b',\n",
       " '19a',\n",
       " '20d\\n']"
      ]
     },
     "execution_count": 41,
     "metadata": {},
     "output_type": "execute_result"
    }
   ],
   "source": [
    "answers"
   ]
  },
  {
   "cell_type": "code",
   "execution_count": null,
   "metadata": {
    "collapsed": true
   },
   "outputs": [],
   "source": []
  },
  {
   "cell_type": "code",
   "execution_count": 20,
   "metadata": {
    "collapsed": true
   },
   "outputs": [],
   "source": [
    "def parse_answers(answers):\n",
    "    arr = []\n",
    "    i = 0\n",
    "    key = ''\n",
    "    value = ''\n",
    "    for i in line:\n",
    "        if i.isdigit():\n",
    "            key += i\n",
    "        if i.isalpha():\n",
    "            value += i\n",
    "        else:\n",
    "            if key:\n",
    "                arr.append({int(key): value})\n",
    "                key = value = ''\n",
    "    return arr\n"
   ]
  },
  {
   "cell_type": "code",
   "execution_count": 21,
   "metadata": {
    "collapsed": false
   },
   "outputs": [],
   "source": [
    "arr = parse_answers(answers)"
   ]
  },
  {
   "cell_type": "code",
   "execution_count": 13,
   "metadata": {
    "collapsed": false
   },
   "outputs": [
    {
     "data": {
      "text/plain": [
       "[{1: ''},\n",
       " {2: 'c'},\n",
       " {3: 'b'},\n",
       " {4: 'a'},\n",
       " {5: 'b'},\n",
       " {6: 'd'},\n",
       " {7: 'c'},\n",
       " {8: 'a'},\n",
       " {9: 'a'},\n",
       " {1: 'd'},\n",
       " {0: ''},\n",
       " {1: 'b'},\n",
       " {1: ''},\n",
       " {1: 'd'},\n",
       " {2: ''},\n",
       " {1: 'a'},\n",
       " {3: ''},\n",
       " {1: 'b'},\n",
       " {4: ''},\n",
       " {1: 'a'},\n",
       " {5: ''},\n",
       " {1: 'c'},\n",
       " {6: ''},\n",
       " {1: 'd'},\n",
       " {7: ''},\n",
       " {1: 'c'},\n",
       " {8: ''},\n",
       " {1: 'b'},\n",
       " {9: ''},\n",
       " {2: 'a'},\n",
       " {0: ''}]"
      ]
     },
     "execution_count": 13,
     "metadata": {},
     "output_type": "execute_result"
    }
   ],
   "source": [
    "arr"
   ]
  },
  {
   "cell_type": "code",
   "execution_count": null,
   "metadata": {
    "collapsed": true
   },
   "outputs": [],
   "source": []
  }
 ],
 "metadata": {
  "kernelspec": {
   "display_name": "Python 3",
   "language": "python",
   "name": "python3"
  },
  "language_info": {
   "codemirror_mode": {
    "name": "ipython",
    "version": 3
   },
   "file_extension": ".py",
   "mimetype": "text/x-python",
   "name": "python",
   "nbconvert_exporter": "python",
   "pygments_lexer": "ipython3",
   "version": "3.4.3"
  }
 },
 "nbformat": 4,
 "nbformat_minor": 0
}
